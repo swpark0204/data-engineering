{
 "cells": [
  {
   "cell_type": "code",
   "execution_count": 4,
   "id": "d50234c5-14f6-4f2b-90b3-0a037ad2de9f",
   "metadata": {},
   "outputs": [
    {
     "name": "stdout",
     "output_type": "stream",
     "text": [
      "Loveseat. Tufted polyester blend on wood. 32 inches high x 40 inches wide x 30 inches deep. Red or white.\n"
     ]
    }
   ],
   "source": [
    "#1\n",
    "lovely_loveseat_description = \"Loveseat. Tufted polyester blend on wood. 32 inches high x 40 inches wide x 30 inches deep. Red or white.\"\n",
    "print(lovely_loveseat_description)"
   ]
  },
  {
   "cell_type": "code",
   "execution_count": 6,
   "id": "498f060b-d762-458f-a806-4b8932186b5b",
   "metadata": {},
   "outputs": [
    {
     "name": "stdout",
     "output_type": "stream",
     "text": [
      "254.0\n"
     ]
    }
   ],
   "source": [
    "#2\n",
    "lovely_loveseat_price = 254.00\n",
    "print(lovely_loveseat_price)"
   ]
  },
  {
   "cell_type": "code",
   "execution_count": 8,
   "id": "46da02cd-140f-42bd-98d7-bbef7b178ff5",
   "metadata": {},
   "outputs": [
    {
     "name": "stdout",
     "output_type": "stream",
     "text": [
      "Stylish Settee. Faux leather on birch. 29.50 inches high x 54.75 inches wide x 28 inches deep. Black.\n"
     ]
    }
   ],
   "source": [
    "#3\n",
    "stylish_settee_description = \"Stylish Settee. Faux leather on birch. 29.50 inches high x 54.75 inches wide x 28 inches deep. Black.\"\n",
    "print(stylish_settee_description)"
   ]
  },
  {
   "cell_type": "code",
   "execution_count": 10,
   "id": "6b1760e9-1b0c-4b9d-a88f-9844c6f5c454",
   "metadata": {},
   "outputs": [
    {
     "name": "stdout",
     "output_type": "stream",
     "text": [
      "180.5\n"
     ]
    }
   ],
   "source": [
    "#4\n",
    "stylish_settee_price = 180.50\n",
    "print(stylish_settee_price)"
   ]
  },
  {
   "cell_type": "code",
   "execution_count": 12,
   "id": "1abdd8e4-e13f-40a2-bfd1-8876b34b2759",
   "metadata": {},
   "outputs": [
    {
     "name": "stdout",
     "output_type": "stream",
     "text": [
      "Luxurious Lamp. Glass and iron. 36 inches tall. Brown with cream shade.\n"
     ]
    }
   ],
   "source": [
    "#5\n",
    "luxurious_lamp_description = \"Luxurious Lamp. Glass and iron. 36 inches tall. Brown with cream shade.\"\n",
    "print(luxurious_lamp_description)"
   ]
  },
  {
   "cell_type": "code",
   "execution_count": 14,
   "id": "a28a029e-d0ea-48d2-b7d4-c569117a25f5",
   "metadata": {},
   "outputs": [
    {
     "name": "stdout",
     "output_type": "stream",
     "text": [
      "52.15\n"
     ]
    }
   ],
   "source": [
    "#6\n",
    "luxurious_lamp_price = 52.15\n",
    "print(luxurious_lamp_price)"
   ]
  },
  {
   "cell_type": "code",
   "execution_count": 16,
   "id": "7a91c9ef-1d10-4fa9-95c4-cf8f993e9df6",
   "metadata": {},
   "outputs": [
    {
     "name": "stdout",
     "output_type": "stream",
     "text": [
      "0.088\n"
     ]
    }
   ],
   "source": [
    "#7\n",
    "sales_tax = .088\n",
    "print(sales_tax)"
   ]
  },
  {
   "cell_type": "code",
   "execution_count": 18,
   "id": "d7d059fa-9555-4061-88a4-73398a157ba0",
   "metadata": {},
   "outputs": [
    {
     "name": "stdout",
     "output_type": "stream",
     "text": [
      "0\n"
     ]
    }
   ],
   "source": [
    "#8\n",
    "customer_one_total = 0\n",
    "print(customer_one_total)"
   ]
  },
  {
   "cell_type": "code",
   "execution_count": 22,
   "id": "9279d864-f987-4c12-be94-c755b146a752",
   "metadata": {},
   "outputs": [
    {
     "name": "stdout",
     "output_type": "stream",
     "text": [
      "\n"
     ]
    }
   ],
   "source": [
    "#9\n",
    "customer_one_itemization = \"\"\n",
    "print(customer_one_itemization)"
   ]
  },
  {
   "cell_type": "code",
   "execution_count": 24,
   "id": "9d8459c1-82aa-48cb-bc37-1f038d05eff5",
   "metadata": {},
   "outputs": [],
   "source": [
    "#10\n",
    "customer_one_total += lovely_loveseat_price"
   ]
  },
  {
   "cell_type": "code",
   "execution_count": 26,
   "id": "fe017edf-2657-4ca5-acfc-5352e84f39fb",
   "metadata": {},
   "outputs": [],
   "source": [
    "#11\n",
    "customer_one_itemization += lovely_loveseat_description"
   ]
  },
  {
   "cell_type": "code",
   "execution_count": 28,
   "id": "af6595d2-f3f3-4d79-9414-6c36e426f313",
   "metadata": {},
   "outputs": [],
   "source": [
    "#12\n",
    "customer_one_total += luxurious_lamp_price"
   ]
  },
  {
   "cell_type": "code",
   "execution_count": 30,
   "id": "2ede8ff3-8552-4503-9ae1-e437e99ebee0",
   "metadata": {},
   "outputs": [],
   "source": [
    "#13\n",
    "customer_one_itemization += luxurious_lamp_description"
   ]
  },
  {
   "cell_type": "code",
   "execution_count": 32,
   "id": "b1e71856-036c-4d36-8e9f-aeb38bcd7c2e",
   "metadata": {},
   "outputs": [],
   "source": [
    "#14\n",
    "customer_one_tax = customer_one_total * sales_tax"
   ]
  },
  {
   "cell_type": "code",
   "execution_count": 34,
   "id": "2ca7bc31-6a32-462e-b3f3-a9eb9e9d0026",
   "metadata": {},
   "outputs": [],
   "source": [
    "#15\n",
    "customer_one_total += customer_one_tax"
   ]
  },
  {
   "cell_type": "code",
   "execution_count": 36,
   "id": "ec58824e-aa4b-46c9-b9a5-0cae98593737",
   "metadata": {},
   "outputs": [
    {
     "name": "stdout",
     "output_type": "stream",
     "text": [
      "Customer One Items:\n"
     ]
    }
   ],
   "source": [
    "#16\n",
    "print(\"Customer One Items:\")"
   ]
  },
  {
   "cell_type": "code",
   "execution_count": 38,
   "id": "2a4b5260-4516-4181-9d1a-174b02443cd4",
   "metadata": {},
   "outputs": [
    {
     "name": "stdout",
     "output_type": "stream",
     "text": [
      "Loveseat. Tufted polyester blend on wood. 32 inches high x 40 inches wide x 30 inches deep. Red or white.Luxurious Lamp. Glass and iron. 36 inches tall. Brown with cream shade.\n"
     ]
    }
   ],
   "source": [
    "#17\n",
    "print(customer_one_itemization)"
   ]
  },
  {
   "cell_type": "code",
   "execution_count": 41,
   "id": "f52e794e-2319-4722-acf5-fa84fa8b2ea1",
   "metadata": {},
   "outputs": [
    {
     "name": "stdout",
     "output_type": "stream",
     "text": [
      "Customer One Total:\n"
     ]
    }
   ],
   "source": [
    "#18\n",
    "print(\"Customer One Total:\")"
   ]
  },
  {
   "cell_type": "code",
   "execution_count": 45,
   "id": "fd5910e2-16b2-4b40-840d-4943a3ec0069",
   "metadata": {},
   "outputs": [
    {
     "name": "stdout",
     "output_type": "stream",
     "text": [
      "333.09119999999996\n"
     ]
    }
   ],
   "source": [
    "#19\n",
    "print(customer_one_total)"
   ]
  },
  {
   "cell_type": "code",
   "execution_count": 47,
   "id": "8ad16989-9572-4d12-88ca-03f4f199e525",
   "metadata": {},
   "outputs": [
    {
     "name": "stdout",
     "output_type": "stream",
     "text": [
      "Customer One Items:\n",
      "Loveseat. Tufted polyester blend on wood. 32 inches high x 40 inches wide x 30 inches deep. Red or white.Luxurious Lamp. Glass and iron. 36 inches tall. Brown with cream shade.\n",
      "Customer One Total:\n",
      "333.09119999999996\n"
     ]
    }
   ],
   "source": [
    "#20\n",
    "print(\"Customer One Items:\")\n",
    "print(customer_one_itemization)\n",
    "print(\"Customer One Total:\")\n",
    "print(customer_one_total)"
   ]
  }
 ],
 "metadata": {
  "kernelspec": {
   "display_name": "Python 3 (ipykernel)",
   "language": "python",
   "name": "python3"
  },
  "language_info": {
   "codemirror_mode": {
    "name": "ipython",
    "version": 3
   },
   "file_extension": ".py",
   "mimetype": "text/x-python",
   "name": "python",
   "nbconvert_exporter": "python",
   "pygments_lexer": "ipython3",
   "version": "3.12.4"
  }
 },
 "nbformat": 4,
 "nbformat_minor": 5
}
