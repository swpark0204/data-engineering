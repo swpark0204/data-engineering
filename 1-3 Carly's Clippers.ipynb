{
 "cells": [
  {
   "cell_type": "code",
   "execution_count": 53,
   "id": "c4596311-b491-4835-a2bf-f575ad7dcb4f",
   "metadata": {},
   "outputs": [],
   "source": [
    "hairstyles = [\"bouffant\", \"pixie\", \"dreadlocks\", \"crew\", \"bowl\", \"bob\", \"mohawk\", \"flattop\"]"
   ]
  },
  {
   "cell_type": "code",
   "execution_count": 55,
   "id": "77cec687-2943-4c20-9c40-a0f9f06bf79f",
   "metadata": {},
   "outputs": [],
   "source": [
    "prices = [30, 25, 40, 20, 20, 35, 50, 35]"
   ]
  },
  {
   "cell_type": "code",
   "execution_count": 57,
   "id": "18ed907f-dfdb-4241-a765-fcc62d15e215",
   "metadata": {},
   "outputs": [],
   "source": [
    "last_week = [2, 3, 5, 8, 4, 4, 6, 2]"
   ]
  },
  {
   "cell_type": "code",
   "execution_count": 59,
   "id": "9ba642ab-3524-4e44-af62-2976d2939808",
   "metadata": {},
   "outputs": [],
   "source": [
    "#1\n",
    "total_price = 0"
   ]
  },
  {
   "cell_type": "code",
   "execution_count": 61,
   "id": "377fa786-9201-4d8e-bb72-c0b11b22ed4f",
   "metadata": {},
   "outputs": [],
   "source": [
    "#2\n",
    "for price in prices:\n",
    "    total_price += price"
   ]
  },
  {
   "cell_type": "code",
   "execution_count": 63,
   "id": "95d30513-6f36-4b5a-92d1-50de72781e27",
   "metadata": {},
   "outputs": [],
   "source": [
    "#3\n",
    "average_price = total_price/len(prices)"
   ]
  },
  {
   "cell_type": "code",
   "execution_count": 65,
   "id": "66da1459-f986-4a0b-8c29-f40e4ad95d31",
   "metadata": {},
   "outputs": [
    {
     "name": "stdout",
     "output_type": "stream",
     "text": [
      "Average price is  31.875\n"
     ]
    }
   ],
   "source": [
    "#4\n",
    "print(\"Average price is \", average_price)"
   ]
  },
  {
   "cell_type": "code",
   "execution_count": 67,
   "id": "7c53d031-185f-477f-86bd-2f177f6290af",
   "metadata": {},
   "outputs": [],
   "source": [
    "#5\n",
    "new_prices = [price - 5 for price in prices]"
   ]
  },
  {
   "cell_type": "code",
   "execution_count": 69,
   "id": "8816beca-951d-488c-a5e3-21f8bc893a4f",
   "metadata": {},
   "outputs": [
    {
     "name": "stdout",
     "output_type": "stream",
     "text": [
      "[25, 20, 35, 15, 15, 30, 45, 30]\n"
     ]
    }
   ],
   "source": [
    "#6\n",
    "print(new_prices)"
   ]
  },
  {
   "cell_type": "code",
   "execution_count": 71,
   "id": "9911b256-ea20-4ad3-aa4b-cab0143a87e6",
   "metadata": {},
   "outputs": [],
   "source": [
    "#7\n",
    "total_revenue = 0"
   ]
  },
  {
   "cell_type": "code",
   "execution_count": 73,
   "id": "121d23f3-0e45-445b-9902-453349679080",
   "metadata": {},
   "outputs": [],
   "source": [
    "#8, 9\n",
    "for i in range(len(hairstyles)):\n",
    "    total_revenue += prices[i] * last_week[i]"
   ]
  },
  {
   "cell_type": "code",
   "execution_count": 79,
   "id": "0eaca2fb-2b78-4a42-985c-1171f9bb4359",
   "metadata": {},
   "outputs": [
    {
     "name": "stdout",
     "output_type": "stream",
     "text": [
      "1085\n"
     ]
    }
   ],
   "source": [
    "#10\n",
    "print(total_revenue)"
   ]
  },
  {
   "cell_type": "code",
   "execution_count": 81,
   "id": "429a29d9-1a14-49d3-b9be-4f3c2694c562",
   "metadata": {},
   "outputs": [
    {
     "name": "stdout",
     "output_type": "stream",
     "text": [
      "Average daily revenue is  155.0\n"
     ]
    }
   ],
   "source": [
    "#11\n",
    "average_daily_revenue = total_revenue/7\n",
    "print(\"Average daily revenue is \", average_daily_revenue)"
   ]
  },
  {
   "cell_type": "code",
   "execution_count": 83,
   "id": "ad1562b8-75dc-48df-8743-4b777065f686",
   "metadata": {},
   "outputs": [],
   "source": [
    "#12\n",
    "cuts_under_30 = [hairstyles[i] for i in range(len(new_prices)) if new_prices[i]<30]"
   ]
  },
  {
   "cell_type": "code",
   "execution_count": 85,
   "id": "fb5bd8a1-dc89-4237-99f7-2ef28dd2112d",
   "metadata": {},
   "outputs": [
    {
     "name": "stdout",
     "output_type": "stream",
     "text": [
      "['bouffant', 'pixie', 'crew', 'bowl']\n"
     ]
    }
   ],
   "source": [
    "#13\n",
    "print(cuts_under_30)"
   ]
  }
 ],
 "metadata": {
  "kernelspec": {
   "display_name": "Python 3 (ipykernel)",
   "language": "python",
   "name": "python3"
  },
  "language_info": {
   "codemirror_mode": {
    "name": "ipython",
    "version": 3
   },
   "file_extension": ".py",
   "mimetype": "text/x-python",
   "name": "python",
   "nbconvert_exporter": "python",
   "pygments_lexer": "ipython3",
   "version": "3.12.4"
  }
 },
 "nbformat": 4,
 "nbformat_minor": 5
}
